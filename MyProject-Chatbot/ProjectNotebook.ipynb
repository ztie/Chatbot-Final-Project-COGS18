{
 "cells": [
  {
   "cell_type": "markdown",
   "metadata": {},
   "source": [
    "# Project Description"
   ]
  },
  {
   "cell_type": "markdown",
   "metadata": {},
   "source": [
    "For the project, I chose to extend the chatbot we built in A3. As seen in the module file, I gave the chatbot information regarding mental disorders including depression, bipolar, delusional disorder, schizophrenia, schizophreniform disorder, and schizoaffective disorder. When asked, the output returns information about these disorders, including definition, cause, prevelance, symptom, and treatment. "
   ]
  },
  {
   "cell_type": "markdown",
   "metadata": {},
   "source": [
    "# Project Code From Assignment 3\n",
    "\n"
   ]
  },
  {
   "cell_type": "markdown",
   "metadata": {},
   "source": [
    "imported from the module called existing_code, which has a collection of functions that enable the chatbot to interact with the user on rather non-specific topics."
   ]
  },
  {
   "cell_type": "code",
   "execution_count": 1,
   "metadata": {},
   "outputs": [],
   "source": [
    "from my_module.existing_code import *"
   ]
  },
  {
   "cell_type": "code",
   "execution_count": 2,
   "metadata": {},
   "outputs": [],
   "source": [
    "#existing set of posisble user inputs and their corresponding outputs, copied from Assignment3.\n",
    "GREETINGS_IN = ['hello', 'hi', 'hey', 'hola', 'welcome', 'bonjour', 'greetings']\n",
    "GREETINGS_OUT = [\"Hello, it's nice to talk to you!\", 'Nice to meet you!',  \"Hey - Let's chat!\"]\n",
    "\n",
    "COMP_IN = ['python', 'code', 'computer', 'algorithm', ]\n",
    "COMP_OUT = [\"Python is what I'm made of.\", \\\n",
    "            \"Did you know I'm made of code!?\", \\\n",
    "            \"Computers are so magical\", \\\n",
    "            \"Do you think I'll pass the Turing test?\"]\n",
    "\n",
    "PEOPLE_IN = ['turing', 'hopper', 'neumann', 'lovelace']\n",
    "PEOPLE_OUT = ['was awesome!', 'did so many important things!', 'is someone you should look up :).']\n",
    "PEOPLE_NAMES = {'turing': 'Alan', 'hopper': 'Grace', 'neumann': 'John von', 'lovelace': 'Ada'}\n",
    "\n",
    "JOKES_IN = ['funny', 'hilarious', 'ha', 'haha', 'hahaha', 'lol']\n",
    "JOKES_OUT = ['ha', 'haha', 'lol'] \n",
    "\n",
    "NONO_IN = ['matlab', 'java', 'C++']\n",
    "NONO_OUT = [\"I'm sorry, I don't want to talk about\"]\n",
    "\n",
    "UNKNOWN = ['Good.', 'Okay', 'Huh?', 'Yeah!', 'Thanks!']\n",
    "\n",
    "QUESTION = \"I'm too shy to answer questions. What do you want to talk about?\""
   ]
  },
  {
   "cell_type": "markdown",
   "metadata": {},
   "source": [
    "# My Extended Project Code "
   ]
  },
  {
   "cell_type": "markdown",
   "metadata": {},
   "source": [
    "imported from the module called my_code, which has a collection of functions that extend the functionality of the chatbot to talk about mental disorders."
   ]
  },
  {
   "cell_type": "code",
   "execution_count": 3,
   "metadata": {},
   "outputs": [],
   "source": [
    "from my_module.my_code import *"
   ]
  },
  {
   "cell_type": "markdown",
   "metadata": {},
   "source": [
    "# Extended Chatbot"
   ]
  },
  {
   "cell_type": "code",
   "execution_count": 4,
   "metadata": {},
   "outputs": [],
   "source": [
    "def have_a_chat():\n",
    "    \"\"\"Main function to run our chatbot.\"\"\"\n",
    "    \n",
    "    chat = True\n",
    "    while chat:\n",
    "\n",
    "        # Get a message from the user\n",
    "        msg = input('INPUT :\\t')\n",
    "        out_msg = None\n",
    "\n",
    "        # Check if the input is a question\n",
    "        question = is_question(msg)\n",
    "\n",
    "        # Prepare the input message\n",
    "        msg = prepare_text(msg)\n",
    "\n",
    "        # Check for an end msg \n",
    "        if end_chat(msg):\n",
    "            out_msg = 'Bye!'\n",
    "            chat = False\n",
    "\n",
    "        # Check for a selection of topics that we have defined to respond to\n",
    "        #   Here, we will check for a series of topics that we have designed to answer to\n",
    "        if not out_msg:\n",
    "\n",
    "            # Initialize to collect a list of possible outputs\n",
    "            outs = []\n",
    "\n",
    "            # Check if the input looks like a greeting, add a greeting output if so\n",
    "            outs.append(selector(msg, GREETINGS_IN, GREETINGS_OUT))\n",
    "\n",
    "            # Check if the input looks like a computer thing, add a computer output if so\n",
    "            outs.append(selector(msg, COMP_IN, COMP_OUT))\n",
    "\n",
    "            # Check if the input mentions a person that is specified, add a person output if so\n",
    "            if is_in_list(msg, PEOPLE_IN):\n",
    "                name = find_in_list(msg, PEOPLE_IN)\n",
    "                outs.append(list_to_string([PEOPLE_NAMES[name], name.capitalize(),\n",
    "                                            selector(msg, PEOPLE_IN, PEOPLE_OUT)], ' '))\n",
    "\n",
    "            # Check if the input looks like a joke, add a repeat joke output if so\n",
    "            outs.append(respond_echo(selector(msg, JOKES_IN, JOKES_OUT), 3, ''))\n",
    "\n",
    "            # Check if the input has some words we don't want to talk about, say that, if so\n",
    "            if is_in_list(msg, NONO_IN):\n",
    "                outs.append(list_to_string([selector(msg, NONO_IN, NONO_OUT), find_in_list(msg, NONO_IN)], ' '))\n",
    "\n",
    "            # Check if the input has some words that has the name of the disorder and the category wanted to explore, \n",
    "            # if so\n",
    "            info = disorder_filter(msg,DISORDERS,CATEGORIES)\n",
    "            if info != None:\n",
    "                out_msg = find_output(disorders, info)\n",
    "\n",
    "            # We could have selected multiple outputs from the topic search above (if multiple return possible outputs)\n",
    "            #   We also might have appended None in some cases, meaning we don't have a reply\n",
    "            #   To deal with this, we are going to randomly select an output from the set of outputs that are not None\n",
    "            options = list(filter(None, outs))\n",
    "            if options:\n",
    "                out_msg = random.choice(options)\n",
    "\n",
    "        # If we don't have an output yet, but the input was a question, return msg related to it being a question\n",
    "        if not out_msg and question:\n",
    "            out_msg = QUESTION\n",
    "\n",
    "        # Catch-all to say something if msg not caught & processed so far\n",
    "        if not out_msg:\n",
    "            out_msg = random.choice(UNKNOWN)\n",
    "\n",
    "        print('OUTPUT:', out_msg)"
   ]
  },
  {
   "cell_type": "markdown",
   "metadata": {},
   "source": [
    "In addition to saying hi to our chatbot, try asking question about mental disorders! Specifically its definition, cause, prevelance, symptoms, and treatment.\n",
    "\n",
    "Covered mental disorderes include Depression, Bipolar Disorder, Schizophrenia, Delusional Disorder, Schizophreniform Disorder, and Schizoaffective Disorder.\n"
   ]
  },
  {
   "cell_type": "code",
   "execution_count": null,
   "metadata": {},
   "outputs": [
    {
     "name": "stdout",
     "output_type": "stream",
     "text": [
      "INPUT :\twhat is the symptom for schizophrenia\n",
      "OUTPUT: 1. Having false beliefs\n",
      "        2. Hearing voices that others do not\n",
      "        3. Reduced emotional expression\n",
      "        4. Lack of motivation\n",
      "\n",
      "INPUT :\ttreatment for schizphrenia\n",
      "OUTPUT: Good.\n",
      "INPUT :\ttreatment for schizophrenia\n",
      "OUTPUT: The mainstay of treatment is antipsychotic medication, along with counselling, job training and social rehabilitation.\n"
     ]
    }
   ],
   "source": [
    "have_a_chat()"
   ]
  },
  {
   "cell_type": "markdown",
   "metadata": {},
   "source": [
    "# Project available on Github\n",
    "acount name:ztie\n",
    "link to the repository:"
   ]
  }
 ],
 "metadata": {
  "kernelspec": {
   "display_name": "Python 3",
   "language": "python",
   "name": "python3"
  },
  "language_info": {
   "codemirror_mode": {
    "name": "ipython",
    "version": 3
   },
   "file_extension": ".py",
   "mimetype": "text/x-python",
   "name": "python",
   "nbconvert_exporter": "python",
   "pygments_lexer": "ipython3",
   "version": "3.7.0"
  }
 },
 "nbformat": 4,
 "nbformat_minor": 2
}
